{
 "cells": [
  {
   "cell_type": "markdown",
   "id": "0a705b6b-f4c8-4721-ad39-298790ebbbe6",
   "metadata": {},
   "source": [
    "## A pandas.Series having an index is the main difference between a pandas.Series and a NumPy array. Let’s see the difference:"
   ]
  },
  {
   "cell_type": "code",
   "execution_count": 2,
   "id": "7389d08c-87b2-47d0-9887-b5853c9fff54",
   "metadata": {
    "tags": []
   },
   "outputs": [],
   "source": [
    "import pandas as pd\n",
    "import numpy as np"
   ]
  },
  {
   "cell_type": "code",
   "execution_count": 3,
   "id": "d81e8156-9e03-4e86-b4c6-fe80d6b02ef4",
   "metadata": {
    "tags": []
   },
   "outputs": [
    {
     "name": "stdout",
     "output_type": "stream",
     "text": [
      "<class 'numpy.ndarray'>\n",
      "[-0.14156956  0.38188972 -0.68792367 -0.05824335] \n",
      "\n",
      "<class 'pandas.core.series.Series'>\n",
      "0   -0.141570\n",
      "1    0.381890\n",
      "2   -0.687924\n",
      "3   -0.058243\n",
      "dtype: float64\n"
     ]
    }
   ],
   "source": [
    "# A numpy array\n",
    "arr = np.random.randn(4) # random values from std normal distribution\n",
    "print(type(arr))\n",
    "print(arr, \"\\n\")\n",
    "\n",
    "# A pandas series made from the previous array\n",
    "s = pd.Series(arr)\n",
    "print(type(s))\n",
    "print(s)"
   ]
  },
  {
   "cell_type": "markdown",
   "id": "7a7e6b26-c279-410f-bf5d-cd9a4bba3df6",
   "metadata": {},
   "source": [
    "## Creating a pandas.Series\n",
    "### The basic method to create a pandas.Series is to call"
   ]
  },
  {
   "cell_type": "code",
   "execution_count": 6,
   "id": "eb62f544-b463-422c-9880-069341b81a76",
   "metadata": {
    "tags": []
   },
   "outputs": [
    {
     "data": {
      "text/plain": [
       "2023    0\n",
       "2024    1\n",
       "2025    2\n",
       "dtype: int64"
      ]
     },
     "execution_count": 6,
     "metadata": {},
     "output_type": "execute_result"
    }
   ],
   "source": [
    "# A series from a numpy array \n",
    "pd.Series(np.arange(3), index=[2023, 2024, 2025])"
   ]
  },
  {
   "cell_type": "code",
   "execution_count": 7,
   "id": "f955e27b-9453-45e5-b92c-be4a33c982aa",
   "metadata": {
    "tags": []
   },
   "outputs": [
    {
     "data": {
      "text/plain": [
       "0    EDS 220\n",
       "1    EDS 222\n",
       "2    EDS 223\n",
       "3    EDS 242\n",
       "dtype: object"
      ]
     },
     "execution_count": 7,
     "metadata": {},
     "output_type": "execute_result"
    }
   ],
   "source": [
    "# A series from a list of strings with default index\n",
    "pd.Series(['EDS 220', 'EDS 222', 'EDS 223', 'EDS 242'])"
   ]
  },
  {
   "cell_type": "markdown",
   "id": "bebaebdc-6098-4e01-bc5b-946452dab732",
   "metadata": {},
   "source": [
    "## Example: Creating a pandas.Series from a dictionary\n",
    "### Recall that a dictionary is a set of key-value pairs. If we create a pandas.Series via a dictionary the keys will become the index and the values the corresponding data."
   ]
  },
  {
   "cell_type": "code",
   "execution_count": 8,
   "id": "27098b7d-5b5a-4105-9478-17e6d12699ab",
   "metadata": {
    "tags": []
   },
   "outputs": [
    {
     "data": {
      "text/plain": [
       "key_0    2\n",
       "key_1    3\n",
       "key_2    5\n",
       "dtype: object"
      ]
     },
     "execution_count": 8,
     "metadata": {},
     "output_type": "execute_result"
    }
   ],
   "source": [
    "# Construct dictionary\n",
    "d = {'key_0':2, 'key_1':'3', 'key_2':5}\n",
    "\n",
    "# Initialize series using a dictionary\n",
    "pd.Series(d)"
   ]
  },
  {
   "cell_type": "code",
   "execution_count": null,
   "id": "5caef0c6-99fb-438c-9f80-94d6da1b4204",
   "metadata": {},
   "outputs": [],
   "source": []
  }
 ],
 "metadata": {
  "kernelspec": {
   "display_name": "Anaconda 3 (Base)",
   "language": "python",
   "name": "base"
  },
  "language_info": {
   "codemirror_mode": {
    "name": "ipython",
    "version": 3
   },
   "file_extension": ".py",
   "mimetype": "text/x-python",
   "name": "python",
   "nbconvert_exporter": "python",
   "pygments_lexer": "ipython3",
   "version": "3.9.13"
  }
 },
 "nbformat": 4,
 "nbformat_minor": 5
}
