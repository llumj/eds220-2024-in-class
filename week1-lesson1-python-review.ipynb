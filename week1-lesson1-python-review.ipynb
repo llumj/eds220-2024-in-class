{
 "cells": [
  {
   "cell_type": "markdown",
   "id": "9ef1b3f4-871f-4e81-bdc5-5f9768a128aa",
   "metadata": {},
   "source": [
    "# Python Review \n",
    "\n",
    "Short review about some core concepts in Python exemplified by objects in the Numpy Library\n",
    "\n",
    "- recall basic vocab \n",
    "- practice markdown syntax \n",
    "\n",
    "## Libraries and packages\n",
    "\n",
    "**Library** is a colleciton of code that we can use to preform specific tasks in our programs. It can be a single file or multiple files.\n",
    "\n",
    "**NumPy:**\n",
    "\n",
    "- core library for numerical computing in python\n",
    "- many of libraries us NumPy arrays as their building blocks \n",
    "- computations on NumPy are optimized \n",
    "\n"
   ]
  },
  {
   "cell_type": "code",
   "execution_count": 1,
   "id": "b9141091-d9e1-4d4d-b4b0-da461c67d2a8",
   "metadata": {
    "tags": []
   },
   "outputs": [],
   "source": [
    "import numpy as np"
   ]
  },
  {
   "cell_type": "markdown",
   "id": "ad04ddbb-a29e-48aa-80a1-467d628f86c0",
   "metadata": {},
   "source": [
    "## Variables \n",
    "\n",
    "**variables** a name we assign to a particular object in Python\n",
    "\n",
    "Example:"
   ]
  },
  {
   "cell_type": "code",
   "execution_count": 2,
   "id": "03cedd5f-6236-42ac-bcab-ce5b72002056",
   "metadata": {
    "tags": []
   },
   "outputs": [],
   "source": [
    "# Assign a small array to a variable a \n",
    "a = np.array( [[1,1,2], [3,5,8]] )"
   ]
  },
  {
   "cell_type": "markdown",
   "id": "992fe6af-7e49-4523-b9f5-450576b76f45",
   "metadata": {},
   "source": [
    "To view a variable's value from our Jupyter notebook"
   ]
  },
  {
   "cell_type": "code",
   "execution_count": 3,
   "id": "9325b70e-eb1c-4d08-b8a9-938b364b1f83",
   "metadata": {
    "tags": []
   },
   "outputs": [
    {
     "data": {
      "text/plain": [
       "array([[1, 1, 2],\n",
       "       [3, 5, 8]])"
      ]
     },
     "execution_count": 3,
     "metadata": {},
     "output_type": "execute_result"
    }
   ],
   "source": [
    "# run the cell\n",
    "a"
   ]
  },
  {
   "cell_type": "code",
   "execution_count": 4,
   "id": "2c162853-bd05-4666-bba9-b48712be0aa3",
   "metadata": {},
   "outputs": [
    {
     "name": "stdout",
     "output_type": "stream",
     "text": [
      "[[1 1 2]\n",
      " [3 5 8]]\n"
     ]
    }
   ],
   "source": [
    "print(a)"
   ]
  },
  {
   "cell_type": "markdown",
   "id": "3126de97-d339-4d50-9ba2-4e9b01fc1cc4",
   "metadata": {},
   "source": [
    "## Convention: use 'snack_case' for naming variables\n",
    "\n",
    "Thisn is the convention we will use in the course. Why? 'my-variable' or 'MyVariable' or 'myVariable'\n",
    "PEP 8 - Style guide for Python Code recommends snake_case\n",
    "\n",
    "**Remember that variable names should be both be descriptive and consise!**\n",
    "\n",
    "## Objects \n",
    "\n",
    "**obeject** is a bundle of *properties* and *actions* about something specific. \n",
    "\n",
    "Example:\n",
    "\n",
    "object: data frame \n",
    "properties: number of rows and columns and date created \n",
    "actions: selecting a specific row or adding a new column \n",
    "\n",
    "A variable is the name we give a specific object, and the same object can be referenced by different variables. \n",
    "\n",
    "in practice, we can often use the word variable and object interchangeably.\n",
    "\n",
    "## Types \n",
    "\n",
    "Eevry object in Python has a **type** \n"
   ]
  },
  {
   "cell_type": "markdown",
   "id": "e7fa913f-ba20-4392-a00c-8f130e86f8ad",
   "metadata": {},
   "source": [
    "The numpy.ndarray is the core object/data type in the NumPy\n",
    "package. We can check the type of an entry in the array by indexing:"
   ]
  },
  {
   "cell_type": "code",
   "execution_count": 5,
   "id": "85804ec9-943b-4c6c-afa5-e143e951ef53",
   "metadata": {
    "tags": []
   },
   "outputs": [
    {
     "name": "stdout",
     "output_type": "stream",
     "text": [
      "1\n"
     ]
    }
   ],
   "source": [
    "print(a[0,0])"
   ]
  },
  {
   "cell_type": "code",
   "execution_count": 6,
   "id": "dcadc2f3-3eba-4791-b01b-639bf469e9cb",
   "metadata": {
    "tags": []
   },
   "outputs": [
    {
     "data": {
      "text/plain": [
       "numpy.int64"
      ]
     },
     "execution_count": 6,
     "metadata": {},
     "output_type": "execute_result"
    }
   ],
   "source": [
    "type(a[0,0])\n"
   ]
  },
  {
   "cell_type": "markdown",
   "id": "e4d449fc-ade2-47a0-a8b7-3b603860fd20",
   "metadata": {},
   "source": [
    "## Notice the type of the value 1 in the array is numpy.int64 and not just the standard Python integer type int. The NumPy type numpy.int64 is telling us 1 is an integer stored as a 64-bit number. NumPy has its own data types to deal with numbers depending on memory storage and floating point precision, click here to know see all the types."
   ]
  },
  {
   "cell_type": "markdown",
   "id": "44464bff-73d1-4ce9-af9a-513276eb9f82",
   "metadata": {},
   "source": [
    "print was our first example of a Python function. Functions take in a set of arguments, separated by commas, and use those arguments to create an output. There are several built-in funcions in Python, most of them are for interacting with the Python basic data types such as int (integers), float (decimal numbers), str (strings), and bool (boolean values)."
   ]
  },
  {
   "cell_type": "code",
   "execution_count": 7,
   "id": "30ad3940-a89d-496f-a319-83945b4642b9",
   "metadata": {
    "tags": []
   },
   "outputs": [
    {
     "data": {
      "text/plain": [
       "\u001b[0;31mDocstring:\u001b[0m\n",
       "print(value, ..., sep=' ', end='\\n', file=sys.stdout, flush=False)\n",
       "\n",
       "Prints the values to a stream, or to sys.stdout by default.\n",
       "Optional keyword arguments:\n",
       "file:  a file-like object (stream); defaults to the current sys.stdout.\n",
       "sep:   string inserted between values, default a space.\n",
       "end:   string appended after the last value, default a newline.\n",
       "flush: whether to forcibly flush the stream.\n",
       "\u001b[0;31mType:\u001b[0m      builtin_function_or_method\n"
      ]
     },
     "metadata": {},
     "output_type": "display_data"
    }
   ],
   "source": [
    "?print "
   ]
  },
  {
   "cell_type": "markdown",
   "id": "15514931-e62b-4926-afe6-cca549c222c6",
   "metadata": {},
   "source": [
    "What we get is a doctring. Functions have two types of arguments \n",
    "\n",
    "- **non-optional arguments**: arguments you need to specify for the function to do something, and\n",
    "\n",
    "- **optional arguments:** arguments that are pre-filled with a default value by the function, but you can override them. Optional arguments appear inside the parenthesis () in the form optional_argument = default_value.\n",
    "\n",
    "Example\n",
    "\n",
    "'end' is a parameter in 'print' with default value a new line\n",
    "We can pass the value ':-)' to this parameter so that it finishes the line with ':-)'\n",
    "\n",
    "print('chnage the end parameter', end= ':-)\n",
    "')"
   ]
  },
  {
   "cell_type": "markdown",
   "id": "3603e0b4-ceff-4dd5-900a-09c8e45949a9",
   "metadata": {},
   "source": [
    "## Attributes and methods \n",
    "\n",
    "An object in Python has attributes and methods. \n",
    "- An **attribute** is a property of the object, some piece of information about it. \n",
    "- A **method** is a procedure associated with an object, so it is an action where the main ingredient is the object\n",
    "\n",
    "Example: \n",
    " \n",
    "NumPy arrays have many mehtods and attributes. For example:"
   ]
  },
  {
   "cell_type": "code",
   "execution_count": 8,
   "id": "74f51f01-b352-4611-ab4a-b9d66192f024",
   "metadata": {
    "tags": []
   },
   "outputs": [
    {
     "data": {
      "text/plain": [
       "array([[1, 1, 2],\n",
       "       [3, 5, 8]])"
      ]
     },
     "execution_count": 8,
     "metadata": {},
     "output_type": "execute_result"
    }
   ],
   "source": [
    "a"
   ]
  },
  {
   "cell_type": "code",
   "execution_count": 9,
   "id": "9e142d60-11b7-4ea6-9d15-b6783e645caa",
   "metadata": {
    "tags": []
   },
   "outputs": [
    {
     "name": "stdout",
     "output_type": "stream",
     "text": [
      "[[1 3]\n",
      " [1 5]\n",
      " [2 8]]\n"
     ]
    }
   ],
   "source": [
    "# T is example of an  attribute. it returns the transpose of the array \n",
    "print(a.T)"
   ]
  },
  {
   "cell_type": "code",
   "execution_count": 10,
   "id": "f0672823-594f-43be-a406-a159f5245b94",
   "metadata": {
    "tags": []
   },
   "outputs": [
    {
     "name": "stdout",
     "output_type": "stream",
     "text": [
      "<class 'numpy.ndarray'>\n"
     ]
    }
   ],
   "source": [
    "print(type(a))"
   ]
  },
  {
   "cell_type": "code",
   "execution_count": 12,
   "id": "9c9e04db-a31b-491c-ac69-e92deb4fe0ff",
   "metadata": {
    "tags": []
   },
   "outputs": [
    {
     "name": "stdout",
     "output_type": "stream",
     "text": [
      "(2, 3)\n"
     ]
    }
   ],
   "source": [
    "print(a.shape)"
   ]
  },
  {
   "cell_type": "code",
   "execution_count": 14,
   "id": "2c558ab5-829e-494d-ba14-0e19996bad51",
   "metadata": {
    "tags": []
   },
   "outputs": [
    {
     "name": "stdout",
     "output_type": "stream",
     "text": [
      "dim: 2 | type <class 'int'>\n"
     ]
    }
   ],
   "source": [
    "print('dim:', a.ndim, '| type', type(a.ndim))"
   ]
  },
  {
   "cell_type": "markdown",
   "id": "86309c51-e1fb-4fc7-83ff-7a50e88efb83",
   "metadata": {},
   "source": [
    "Attributes can have many different data types \n",
    "\n",
    "Some examples of methods "
   ]
  },
  {
   "cell_type": "code",
   "execution_count": 16,
   "id": "7d2feb1e-1eb8-4020-b812-4da311450a88",
   "metadata": {
    "tags": []
   },
   "outputs": [
    {
     "name": "stdout",
     "output_type": "stream",
     "text": [
      "[[1 1 2]\n",
      " [3 5 8]]\n"
     ]
    },
    {
     "data": {
      "text/plain": [
       "array([1, 1, 2])"
      ]
     },
     "execution_count": 16,
     "metadata": {},
     "output_type": "execute_result"
    }
   ],
   "source": [
    "print(a)\n",
    "a.min(axis=0)"
   ]
  },
  {
   "cell_type": "markdown",
   "id": "7a453d2f-a7cf-44d9-9637-cad7cf08f228",
   "metadata": {},
   "source": [
    "mehtods are functions associated with an object. We can confirm this!"
   ]
  },
  {
   "cell_type": "code",
   "execution_count": 18,
   "id": "52e99166-db78-4f26-a067-40cee3a51ef2",
   "metadata": {
    "tags": []
   },
   "outputs": [
    {
     "data": {
      "text/plain": [
       "[[1, 1, 2], [3, 5, 8]]"
      ]
     },
     "execution_count": 18,
     "metadata": {},
     "output_type": "execute_result"
    }
   ],
   "source": [
    "a.tolist()"
   ]
  },
  {
   "cell_type": "code",
   "execution_count": 21,
   "id": "c07be6b2-8ea0-4b61-b3c8-1f2f3898f7b2",
   "metadata": {
    "tags": []
   },
   "outputs": [
    {
     "data": {
      "text/plain": [
       "\u001b[0;31mDocstring:\u001b[0m\n",
       "print(value, ..., sep=' ', end='\\n', file=sys.stdout, flush=False)\n",
       "\n",
       "Prints the values to a stream, or to sys.stdout by default.\n",
       "Optional keyword arguments:\n",
       "file:  a file-like object (stream); defaults to the current sys.stdout.\n",
       "sep:   string inserted between values, default a space.\n",
       "end:   string appended after the last value, default a newline.\n",
       "flush: whether to forcibly flush the stream.\n",
       "\u001b[0;31mType:\u001b[0m      builtin_function_or_method\n"
      ]
     },
     "metadata": {},
     "output_type": "display_data"
    }
   ],
   "source": [
    "# Exercise: \n",
    "\n",
    "?print\n"
   ]
  },
  {
   "cell_type": "code",
   "execution_count": 24,
   "id": "7ed5b7fd-13a1-460d-91c3-440a79902162",
   "metadata": {
    "tags": []
   },
   "outputs": [],
   "source": [
    "## create to vairables, one number 77 and one string 99\n",
    "\n",
    "num = 77\n",
    "string_99 = '99'"
   ]
  },
  {
   "cell_type": "code",
   "execution_count": 25,
   "id": "dc205a5d-b588-4e10-979b-e4687c21cc8b",
   "metadata": {
    "tags": []
   },
   "outputs": [
    {
     "data": {
      "text/plain": [
       "'99'"
      ]
     },
     "execution_count": 25,
     "metadata": {},
     "output_type": "execute_result"
    }
   ],
   "source": [
    "num\n",
    "string_99"
   ]
  },
  {
   "cell_type": "code",
   "execution_count": 27,
   "id": "9cdd4c74-725c-41cf-8be9-f38dc3b04099",
   "metadata": {
    "tags": []
   },
   "outputs": [
    {
     "name": "stdout",
     "output_type": "stream",
     "text": [
      "77%99%77\n"
     ]
    }
   ],
   "source": [
    "print(num, string_99, num, sep='%')"
   ]
  },
  {
   "cell_type": "code",
   "execution_count": null,
   "id": "04c79b5f-6713-4424-9518-94a3fccc66d3",
   "metadata": {},
   "outputs": [],
   "source": []
  }
 ],
 "metadata": {
  "kernelspec": {
   "display_name": "Anaconda 3 (Base)",
   "language": "python",
   "name": "base"
  },
  "language_info": {
   "codemirror_mode": {
    "name": "ipython",
    "version": 3
   },
   "file_extension": ".py",
   "mimetype": "text/x-python",
   "name": "python",
   "nbconvert_exporter": "python",
   "pygments_lexer": "ipython3",
   "version": "3.9.13"
  }
 },
 "nbformat": 4,
 "nbformat_minor": 5
}
