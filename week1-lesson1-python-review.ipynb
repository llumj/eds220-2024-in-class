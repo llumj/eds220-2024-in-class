{
 "cells": [
  {
   "cell_type": "markdown",
   "id": "9ef1b3f4-871f-4e81-bdc5-5f9768a128aa",
   "metadata": {},
   "source": [
    "# Python Review \n",
    "\n",
    "Short review about some core concepts in Python exemplified by objects in the Numpy Library\n",
    "\n",
    "- recall basic vocab \n",
    "- practice markdown syntax \n",
    "\n",
    "## Libraries and packages\n",
    "\n",
    "**Library** is a colleciton of code that we can use to preform specific tasks in our programs. It can be a single file or multiple files.\n",
    "\n",
    "**NumPy:**\n",
    "\n",
    "- core library for numerical computing in python\n",
    "- many of libraries us NumPy arrays as their building blocks \n",
    "- computations on NumPy are optimized \n",
    "\n"
   ]
  },
  {
   "cell_type": "code",
   "execution_count": 1,
   "id": "b9141091-d9e1-4d4d-b4b0-da461c67d2a8",
   "metadata": {
    "tags": []
   },
   "outputs": [],
   "source": [
    "import numpy as np"
   ]
  },
  {
   "cell_type": "markdown",
   "id": "ad04ddbb-a29e-48aa-80a1-467d628f86c0",
   "metadata": {},
   "source": [
    "## Variables \n",
    "\n",
    "**variables** a name we assign to a particular object in Python\n",
    "\n",
    "Example:"
   ]
  },
  {
   "cell_type": "code",
   "execution_count": 3,
   "id": "03cedd5f-6236-42ac-bcab-ce5b72002056",
   "metadata": {
    "tags": []
   },
   "outputs": [],
   "source": [
    "# Assign a small array to a variable a \n",
    "a = np.array( [[1,1,2], [3,5,8]] )"
   ]
  },
  {
   "cell_type": "markdown",
   "id": "992fe6af-7e49-4523-b9f5-450576b76f45",
   "metadata": {},
   "source": [
    "To view a variable's value from our Jupyter notebook"
   ]
  },
  {
   "cell_type": "code",
   "execution_count": 4,
   "id": "9325b70e-eb1c-4d08-b8a9-938b364b1f83",
   "metadata": {
    "tags": []
   },
   "outputs": [
    {
     "data": {
      "text/plain": [
       "array([[1, 1, 2],\n",
       "       [3, 5, 8]])"
      ]
     },
     "execution_count": 4,
     "metadata": {},
     "output_type": "execute_result"
    }
   ],
   "source": [
    "# run the cell\n",
    "a"
   ]
  },
  {
   "cell_type": "code",
   "execution_count": null,
   "id": "2c162853-bd05-4666-bba9-b48712be0aa3",
   "metadata": {},
   "outputs": [],
   "source": []
  }
 ],
 "metadata": {
  "kernelspec": {
   "display_name": "Anaconda 3 (Base)",
   "language": "python",
   "name": "base"
  },
  "language_info": {
   "codemirror_mode": {
    "name": "ipython",
    "version": 3
   },
   "file_extension": ".py",
   "mimetype": "text/x-python",
   "name": "python",
   "nbconvert_exporter": "python",
   "pygments_lexer": "ipython3",
   "version": "3.9.13"
  }
 },
 "nbformat": 4,
 "nbformat_minor": 5
}
